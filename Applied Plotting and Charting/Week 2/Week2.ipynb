{
 "cells": [
  {
   "cell_type": "markdown",
   "metadata": {},
   "source": [
    "# Basic Plotting with matplotlib"
   ]
  },
  {
   "cell_type": "markdown",
   "metadata": {},
   "source": [
    "You can show matplotlib figures directly in the notebook by using the `%matplotlib notebook` and `%matplotlib inline` magic commands. \n",
    "\n",
    "`%matplotlib notebook` provides an interactive environment."
   ]
  },
  {
   "cell_type": "code",
   "execution_count": 1,
   "metadata": {
    "collapsed": false
   },
   "outputs": [],
   "source": [
    "%matplotlib inline"
   ]
  },
  {
   "cell_type": "code",
   "execution_count": 2,
   "metadata": {
    "collapsed": false
   },
   "outputs": [
    {
     "data": {
      "text/plain": [
       "'module://ipykernel.pylab.backend_inline'"
      ]
     },
     "execution_count": 2,
     "metadata": {},
     "output_type": "execute_result"
    }
   ],
   "source": [
    "import matplotlib as mpl\n",
    "mpl.get_backend()"
   ]
  },
  {
   "cell_type": "code",
   "execution_count": 3,
   "metadata": {
    "collapsed": false
   },
   "outputs": [],
   "source": [
    "import matplotlib.pyplot as plt\n",
    "plt.plot?"
   ]
  },
  {
   "cell_type": "code",
   "execution_count": 4,
   "metadata": {
    "collapsed": false
   },
   "outputs": [
    {
     "data": {
      "text/plain": [
       "[<matplotlib.lines.Line2D at 0x7fba1adea208>]"
      ]
     },
     "execution_count": 4,
     "metadata": {},
     "output_type": "execute_result"
    },
    {
     "data": {
      "image/png": "[encoded data removed]",
      "text/plain": [
       "<matplotlib.figure.Figure at 0x7fba8c37c7f0>"
      ]
     },
     "metadata": {},
     "output_type": "display_data"
    }
   ],
   "source": [
    "# because the default is the line style '-', \n",
    "# nothing will be shown if we only pass in one point (3,2)\n",
    "plt.plot(3, 2)"
   ]
  },
  {
   "cell_type": "code",
   "execution_count": 5,
   "metadata": {
    "collapsed": false
   },
   "outputs": [
    {
     "data": {
      "text/plain": [
       "[<matplotlib.lines.Line2D at 0x7fba1ad38550>]"
      ]
     },
     "execution_count": 5,
     "metadata": {},
     "output_type": "execute_result"
    },
    {
     "data": {
      "image/png": "[encoded data removed]",
      "text/plain": [
       "<matplotlib.figure.Figure at 0x7fba1cecc198>"
      ]
     },
     "metadata": {},
     "output_type": "display_data"
    }
   ],
   "source": [
    "# we can pass in '.' to plt.plot to indicate that we want\n",
    "# the point (3,2) to be indicated with a marker '.'\n",
    "plt.plot(3, 2, '.')"
   ]
  },
  {
   "cell_type": "markdown",
   "metadata": {},
   "source": [
    "Let's see how to make a plot without using the scripting layer."
   ]
  },
  {
   "cell_type": "code",
   "execution_count": 6,
   "metadata": {
    "collapsed": false
   },
   "outputs": [],
   "source": [
    "# First let's set the backend without using mpl.use() from the scripting layer\n",
    "from matplotlib.backends.backend_agg import FigureCanvasAgg\n",
    "from matplotlib.figure import Figure\n",
    "\n",
    "# create a new figure\n",
    "fig = Figure()\n",
    "\n",
    "# associate fig with the backend\n",
    "canvas = FigureCanvasAgg(fig)\n",
    "\n",
    "# add a subplot to the fig\n",
    "ax = fig.add_subplot(111)\n",
    "\n",
    "# plot the point (3,2)\n",
    "ax.plot(3, 2, '.')\n",
    "\n",
    "# save the figure to test.png\n",
    "# you can see this figure in your Jupyter workspace afterwards by going to\n",
    "# https://hub.coursera-notebooks.org/\n",
    "canvas.print_png('test.png')"
   ]
  },
  {
   "cell_type": "markdown",
   "metadata": {},
   "source": [
    "We can use html cell magic to display the image."
   ]
  },
  {
   "cell_type": "code",
   "execution_count": 7,
   "metadata": {
    "collapsed": false
   },
   "outputs": [
    {
     "data": {
      "text/html": [
       "<img src='test.png' />"
      ],
      "text/plain": [
       "<IPython.core.display.HTML object>"
      ]
     },
     "metadata": {},
     "output_type": "display_data"
    }
   ],
   "source": [
    "%%html\n",
    "<img src='test.png' />"
   ]
  },
  {
   "cell_type": "code",
   "execution_count": 8,
   "metadata": {
    "collapsed": false
   },
   "outputs": [
    {
     "data": {
      "text/plain": [
       "[0, 6, 0, 10]"
      ]
     },
     "execution_count": 8,
     "metadata": {},
     "output_type": "execute_result"
    },
    {
     "data": {
      "image/png": "[encoded data removed]",
      "text/plain": [
       "<matplotlib.figure.Figure at 0x7fba1ad54eb8>"
      ]
     },
     "metadata": {},
     "output_type": "display_data"
    }
   ],
   "source": [
    "# create a new figure\n",
    "plt.figure()\n",
    "\n",
    "# plot the point (3,2) using the circle marker\n",
    "plt.plot(3, 2, 'o')\n",
    "\n",
    "# get the current axes\n",
    "ax = plt.gca()\n",
    "\n",
    "# Set axis properties [xmin, xmax, ymin, ymax]\n",
    "ax.axis([0,6,0,10])"
   ]
  },
  {
   "cell_type": "code",
   "execution_count": 9,
   "metadata": {
    "collapsed": false
   },
   "outputs": [
    {
     "data": {
      "text/plain": [
       "[<matplotlib.lines.Line2D at 0x7fba1aba1eb8>]"
      ]
     },
     "execution_count": 9,
     "metadata": {},
     "output_type": "execute_result"
    },
    {
     "data": {
      "image/png": "[encoded data removed]",
      "text/plain": [
       "<matplotlib.figure.Figure at 0x7fba1ac1e780>"
      ]
     },
     "metadata": {},
     "output_type": "display_data"
    }
   ],
   "source": [
    "# create a new figure\n",
    "plt.figure()\n",
    "\n",
    "# plot the point (1.5, 1.5) using the circle marker\n",
    "plt.plot(1.5, 1.5, 'o')\n",
    "# plot the point (2, 2) using the circle marker\n",
    "plt.plot(2, 2, 'o')\n",
    "# plot the point (2.5, 2.5) using the circle marker\n",
    "plt.plot(2.5, 2.5, 'o')"
   ]
  },
  {
   "cell_type": "code",
   "execution_count": 10,
   "metadata": {
    "collapsed": false
   },
   "outputs": [
    {
     "data": {
      "text/plain": [
       "[<matplotlib.spines.Spine at 0x7fba1abe2710>,\n",
       " <matplotlib.spines.Spine at 0x7fba1abe22b0>,\n",
       " <matplotlib.spines.Spine at 0x7fba1abd4400>,\n",
       " <matplotlib.spines.Spine at 0x7fba1abd4160>,\n",
       " <matplotlib.axis.XAxis at 0x7fba1abd41d0>,\n",
       " <matplotlib.axis.YAxis at 0x7fba1ab32f60>,\n",
       " <matplotlib.text.Text at 0x7fba1ab08748>,\n",
       " <matplotlib.text.Text at 0x7fba1ab087b8>,\n",
       " <matplotlib.text.Text at 0x7fba1ab08828>,\n",
       " <matplotlib.patches.Rectangle at 0x7fba1ab08860>]"
      ]
     },
     "execution_count": 10,
     "metadata": {},
     "output_type": "execute_result"
    },
    {
     "data": {
      "image/png": "[encoded data removed]",
      "text/plain": [
       "<matplotlib.figure.Figure at 0x7fba1abb5160>"
      ]
     },
     "metadata": {},
     "output_type": "display_data"
    }
   ],
   "source": [
    "# get current axes\n",
    "ax = plt.gca()\n",
    "# get all the child objects the axes contains\n",
    "ax.get_children()"
   ]
  },
  {
   "cell_type": "markdown",
   "metadata": {},
   "source": [
    "# Scatterplots"
   ]
  },
  {
   "cell_type": "code",
   "execution_count": 11,
   "metadata": {
    "collapsed": false,
    "scrolled": false
   },
   "outputs": [
    {
     "data": {
      "text/plain": [
       "<matplotlib.collections.PathCollection at 0x7fba1aa397f0>"
      ]
     },
     "execution_count": 11,
     "metadata": {},
     "output_type": "execute_result"
    },
    {
     "data": {
      "image/png": "[encoded data removed]",
      "text/plain": [
       "<matplotlib.figure.Figure at 0x7fba1aafd400>"
      ]
     },
     "metadata": {},
     "output_type": "display_data"
    }
   ],
   "source": [
    "import numpy as np\n",
    "\n",
    "x = np.array([1,2,3,4,5,6,7,8])\n",
    "y = x\n",
    "\n",
    "plt.figure()\n",
    "plt.scatter(x, y) # similar to plt.plot(x, y, '.'), but the underlying child objects in the axes are not Line2D"
   ]
  },
  {
   "cell_type": "code",
   "execution_count": 12,
   "metadata": {
    "collapsed": false
   },
   "outputs": [
    {
     "data": {
      "text/plain": [
       "<matplotlib.collections.PathCollection at 0x7fba1a9dbb70>"
      ]
     },
     "execution_count": 12,
     "metadata": {},
     "output_type": "execute_result"
    },
    {
     "data": {
      "image/png": "[encoded data removed]",
      "text/plain": [
       "<matplotlib.figure.Figure at 0x7fba1a9e8898>"
      ]
     },
     "metadata": {},
     "output_type": "display_data"
    }
   ],
   "source": [
    "import numpy as np\n",
    "\n",
    "x = np.array([1,2,3,4,5,6,7,8])\n",
    "y = x\n",
    "\n",
    "# create a list of colors for each point to have\n",
    "# ['green', 'green', 'green', 'green', 'green', 'green', 'green', 'red']\n",
    "colors = ['green']*(len(x)-1)\n",
    "colors.append('red')\n",
    "\n",
    "plt.figure()\n",
    "\n",
    "# plot the point with size 100 and chosen colors\n",
    "plt.scatter(x, y, s=100, c=colors)"
   ]
  },
  {
   "cell_type": "code",
   "execution_count": 13,
   "metadata": {
    "collapsed": false
   },
   "outputs": [
    {
     "name": "stdout",
     "output_type": "stream",
     "text": [
      "[(1, 6), (2, 7), (3, 8), (4, 9), (5, 10)]\n",
      "(1, 6) (2, 7) (3, 8) (4, 9) (5, 10)\n"
     ]
    }
   ],
   "source": [
    "# convert the two lists into a list of pairwise tuples\n",
    "zip_generator = zip([1,2,3,4,5], [6,7,8,9,10])\n",
    "\n",
    "print(list(zip_generator))\n",
    "# the above prints:\n",
    "# [(1, 6), (2, 7), (3, 8), (4, 9), (5, 10)]\n",
    "\n",
    "zip_generator = zip([1,2,3,4,5], [6,7,8,9,10])\n",
    "# The single star * unpacks a collection into positional arguments\n",
    "print(*zip_generator)\n",
    "# the above prints:\n",
    "# (1, 6) (2, 7) (3, 8) (4, 9) (5, 10)"
   ]
  },
  {
   "cell_type": "code",
   "execution_count": 14,
   "metadata": {
    "collapsed": false
   },
   "outputs": [
    {
     "name": "stdout",
     "output_type": "stream",
     "text": [
      "[(1, 2, 3, 4, 5), (6, 7, 8, 9, 10)]\n",
      "(1, 2, 3, 4, 5)\n",
      "(6, 7, 8, 9, 10)\n"
     ]
    }
   ],
   "source": [
    "# use zip to convert 5 tuples with 2 elements each to 2 tuples with 5 elements each\n",
    "print(list(zip((1, 6), (2, 7), (3, 8), (4, 9), (5, 10))))\n",
    "# the above prints:\n",
    "# [(1, 2, 3, 4, 5), (6, 7, 8, 9, 10)]\n",
    "\n",
    "\n",
    "zip_generator = zip([1,2,3,4,5], [6,7,8,9,10])\n",
    "# let's turn the data back into 2 lists\n",
    "x, y = zip(*zip_generator) # This is like calling zip((1, 6), (2, 7), (3, 8), (4, 9), (5, 10))\n",
    "print(x)\n",
    "print(y)\n",
    "# the above prints:\n",
    "# (1, 2, 3, 4, 5)\n",
    "# (6, 7, 8, 9, 10)"
   ]
  },
  {
   "cell_type": "code",
   "execution_count": 15,
   "metadata": {
    "collapsed": false
   },
   "outputs": [
    {
     "data": {
      "text/plain": [
       "<matplotlib.collections.PathCollection at 0x7fba1a9097b8>"
      ]
     },
     "execution_count": 15,
     "metadata": {},
     "output_type": "execute_result"
    },
    {
     "data": {
      "image/png": "[encoded data removed]",
      "text/plain": [
       "<matplotlib.figure.Figure at 0x7fba1a998cc0>"
      ]
     },
     "metadata": {},
     "output_type": "display_data"
    }
   ],
   "source": [
    "plt.figure()\n",
    "# plot a data series 'Tall students' in red using the first two elements of x and y\n",
    "plt.scatter(x[:2], y[:2], s=100, c='red', label='Tall students')\n",
    "# plot a second data series 'Short students' in blue using the last three elements of x and y \n",
    "plt.scatter(x[2:], y[2:], s=100, c='blue', label='Short students')"
   ]
  },
  {
   "cell_type": "code",
   "execution_count": 16,
   "metadata": {
    "collapsed": false
   },
   "outputs": [
    {
     "data": {
      "text/plain": [
       "<matplotlib.text.Text at 0x7fba1a880828>"
      ]
     },
     "execution_count": 16,
     "metadata": {},
     "output_type": "execute_result"
    },
    {
     "data": {
      "image/png": "[encoded data removed]",
      "text/plain": [
       "<matplotlib.figure.Figure at 0x7fba1aad2470>"
      ]
     },
     "metadata": {},
     "output_type": "display_data"
    }
   ],
   "source": [
    "# add a label to the x axis\n",
    "plt.xlabel('The number of times the child kicked a ball')\n",
    "# add a label to the y axis\n",
    "plt.ylabel('The grade of the student')\n",
    "# add a title\n",
    "plt.title('Relationship between ball kicking and grades')"
   ]
  },
  {
   "cell_type": "code",
   "execution_count": 17,
   "metadata": {
    "collapsed": false
   },
   "outputs": [
    {
     "name": "stderr",
     "output_type": "stream",
     "text": [
      "/opt/conda/lib/python3.6/site-packages/matplotlib/axes/_axes.py:545: UserWarning: No labelled objects found. Use label='...' kwarg on individual plots.\n",
      "  warnings.warn(\"No labelled objects found. \"\n"
     ]
    },
    {
     "data": {
      "image/png": "[encoded data removed]",
      "text/plain": [
       "<matplotlib.figure.Figure at 0x7fba1abe8860>"
      ]
     },
     "metadata": {},
     "output_type": "display_data"
    }
   ],
   "source": [
    "# add a legend (uses the labels from plt.scatter)\n",
    "plt.legend()"
   ]
  },
  {
   "cell_type": "code",
   "execution_count": 18,
   "metadata": {
    "collapsed": false
   },
   "outputs": [
    {
     "name": "stderr",
     "output_type": "stream",
     "text": [
      "/opt/conda/lib/python3.6/site-packages/matplotlib/axes/_axes.py:545: UserWarning: No labelled objects found. Use label='...' kwarg on individual plots.\n",
      "  warnings.warn(\"No labelled objects found. \"\n"
     ]
    },
    {
     "data": {
      "image/png": "[encoded data removed]",
      "text/plain": [
       "<matplotlib.figure.Figure at 0x7fba1adbb390>"
      ]
     },
     "metadata": {},
     "output_type": "display_data"
    }
   ],
   "source": [
    "# add the legend to loc=4 (the lower right hand corner), also gets rid of the frame and adds a title\n",
    "plt.legend(loc=4, frameon=False, title='Legend')"
   ]
  },
  {
   "cell_type": "code",
   "execution_count": 19,
   "metadata": {
    "collapsed": false
   },
   "outputs": [
    {
     "data": {
      "text/plain": [
       "[<matplotlib.spines.Spine at 0x7fba1ad54ef0>,\n",
       " <matplotlib.spines.Spine at 0x7fba1abb5470>,\n",
       " <matplotlib.spines.Spine at 0x7fba1abb55c0>,\n",
       " <matplotlib.spines.Spine at 0x7fba1a85e5f8>,\n",
       " <matplotlib.axis.XAxis at 0x7fba1cec9e48>,\n",
       " <matplotlib.axis.YAxis at 0x7fba1a6e4550>,\n",
       " <matplotlib.text.Text at 0x7fba1a71d400>,\n",
       " <matplotlib.text.Text at 0x7fba1a71d470>,\n",
       " <matplotlib.text.Text at 0x7fba1a71d4e0>,\n",
       " <matplotlib.patches.Rectangle at 0x7fba1a71d518>]"
      ]
     },
     "execution_count": 19,
     "metadata": {},
     "output_type": "execute_result"
    },
    {
     "data": {
      "image/png": "[encoded data removed]",
      "text/plain": [
       "<matplotlib.figure.Figure at 0x7fba1a74d320>"
      ]
     },
     "metadata": {},
     "output_type": "display_data"
    }
   ],
   "source": [
    "# get children from current axes (the legend is the second to last item in this list)\n",
    "plt.gca().get_children()"
   ]
  },
  {
   "cell_type": "code",
   "execution_count": 20,
   "metadata": {
    "collapsed": false
   },
   "outputs": [
    {
     "data": {
      "image/png": "[encoded data removed]",
      "text/plain": [
       "<matplotlib.figure.Figure at 0x7fba1a66a438>"
      ]
     },
     "metadata": {},
     "output_type": "display_data"
    }
   ],
   "source": [
    "# get the legend from the current axes\n",
    "legend = plt.gca().get_children()[-2]"
   ]
  },
  {
   "cell_type": "code",
   "execution_count": 21,
   "metadata": {
    "collapsed": false
   },
   "outputs": [
    {
     "ename": "IndexError",
     "evalue": "list index out of range",
     "output_type": "error",
     "traceback": [
      "\u001b[0;31m---------------------------------------------------------------------------\u001b[0m",
      "\u001b[0;31mIndexError\u001b[0m                                Traceback (most recent call last)",
      "\u001b[0;32m<ipython-input-21-c011c94d49b3>\u001b[0m in \u001b[0;36m<module>\u001b[0;34m()\u001b[0m\n\u001b[1;32m      1\u001b[0m \u001b[0;31m# you can use get_children to navigate through the child artists\u001b[0m\u001b[0;34m\u001b[0m\u001b[0;34m\u001b[0m\u001b[0m\n\u001b[0;32m----> 2\u001b[0;31m \u001b[0mlegend\u001b[0m\u001b[0;34m.\u001b[0m\u001b[0mget_children\u001b[0m\u001b[0;34m(\u001b[0m\u001b[0;34m)\u001b[0m\u001b[0;34m[\u001b[0m\u001b[0;36m0\u001b[0m\u001b[0;34m]\u001b[0m\u001b[0;34m.\u001b[0m\u001b[0mget_children\u001b[0m\u001b[0;34m(\u001b[0m\u001b[0;34m)\u001b[0m\u001b[0;34m[\u001b[0m\u001b[0;36m1\u001b[0m\u001b[0;34m]\u001b[0m\u001b[0;34m.\u001b[0m\u001b[0mget_children\u001b[0m\u001b[0;34m(\u001b[0m\u001b[0;34m)\u001b[0m\u001b[0;34m[\u001b[0m\u001b[0;36m0\u001b[0m\u001b[0;34m]\u001b[0m\u001b[0;34m.\u001b[0m\u001b[0mget_children\u001b[0m\u001b[0;34m(\u001b[0m\u001b[0;34m)\u001b[0m\u001b[0;34m\u001b[0m\u001b[0m\n\u001b[0m",
      "\u001b[0;31mIndexError\u001b[0m: list index out of range"
     ]
    }
   ],
   "source": [
    "# you can use get_children to navigate through the child artists\n",
    "legend.get_children()[0].get_children()[1].get_children()[0].get_children()"
   ]
  },
  {
   "cell_type": "code",
   "execution_count": null,
   "metadata": {
    "collapsed": false
   },
   "outputs": [],
   "source": [
    "# import the artist class from matplotlib\n",
    "from matplotlib.artist import Artist\n",
    "\n",
    "def rec_gc(art, depth=0):\n",
    "    if isinstance(art, Artist):\n",
    "        # increase the depth for pretty printing\n",
    "        print(\"  \" * depth + str(art))\n",
    "        for child in art.get_children():\n",
    "            rec_gc(child, depth+2)\n",
    "\n",
    "# Call this function on the legend artist to see what the legend is made up of\n",
    "rec_gc(plt.legend())"
   ]
  },
  {
   "cell_type": "markdown",
   "metadata": {},
   "source": [
    "# Line Plots"
   ]
  },
  {
   "cell_type": "code",
   "execution_count": null,
   "metadata": {
    "collapsed": false
   },
   "outputs": [],
   "source": [
    "import numpy as np\n",
    "\n",
    "linear_data = np.array([1,2,3,4,5,6,7,8])\n",
    "exponential_data = linear_data**2\n",
    "\n",
    "plt.figure()\n",
    "# plot the linear data and the exponential data\n",
    "plt.plot(linear_data, '-o', exponential_data, '-o')"
   ]
  },
  {
   "cell_type": "code",
   "execution_count": null,
   "metadata": {
    "collapsed": false
   },
   "outputs": [],
   "source": [
    "# plot another series with a dashed red line\n",
    "plt.plot([22,44,55], '--r')"
   ]
  },
  {
   "cell_type": "code",
   "execution_count": null,
   "metadata": {
    "collapsed": false
   },
   "outputs": [],
   "source": [
    "plt.xlabel('Some data')\n",
    "plt.ylabel('Some other data')\n",
    "plt.title('A title')\n",
    "# add a legend with legend entries (because we didn't have labels when we plotted the data series)\n",
    "plt.legend(['Baseline', 'Competition', 'Us'])"
   ]
  },
  {
   "cell_type": "code",
   "execution_count": null,
   "metadata": {
    "collapsed": false
   },
   "outputs": [],
   "source": [
    "# fill the area between the linear data and exponential data\n",
    "plt.gca().fill_between(range(len(linear_data)), \n",
    "                       linear_data, exponential_data, \n",
    "                       facecolor='blue', \n",
    "                       alpha=0.25)"
   ]
  },
  {
   "cell_type": "markdown",
   "metadata": {},
   "source": [
    "Let's try working with dates!"
   ]
  },
  {
   "cell_type": "code",
   "execution_count": null,
   "metadata": {
    "collapsed": false
   },
   "outputs": [],
   "source": [
    "plt.figure()\n",
    "\n",
    "observation_dates = np.arange('2017-01-01', '2017-01-09', dtype='datetime64[D]')\n",
    "\n",
    "plt.plot(observation_dates, linear_data, '-o',  observation_dates, exponential_data, '-o')"
   ]
  },
  {
   "cell_type": "markdown",
   "metadata": {},
   "source": [
    "Let's try using pandas"
   ]
  },
  {
   "cell_type": "code",
   "execution_count": null,
   "metadata": {
    "collapsed": false
   },
   "outputs": [],
   "source": [
    "import pandas as pd\n",
    "\n",
    "plt.figure()\n",
    "observation_dates = np.arange('2017-01-01', '2017-01-09', dtype='datetime64[D]')\n",
    "observation_dates = map(pd.to_datetime, observation_dates) # trying to plot a map will result in an error\n",
    "plt.plot(observation_dates, linear_data, '-o',  observation_dates, exponential_data, '-o')"
   ]
  },
  {
   "cell_type": "code",
   "execution_count": null,
   "metadata": {
    "collapsed": false
   },
   "outputs": [],
   "source": [
    "plt.figure()\n",
    "observation_dates = np.arange('2017-01-01', '2017-01-09', dtype='datetime64[D]')\n",
    "observation_dates = list(map(pd.to_datetime, observation_dates)) # convert the map to a list to get rid of the error\n",
    "plt.plot(observation_dates, linear_data, '-o',  observation_dates, exponential_data, '-o')"
   ]
  },
  {
   "cell_type": "code",
   "execution_count": null,
   "metadata": {
    "collapsed": false
   },
   "outputs": [],
   "source": [
    "x = plt.gca().xaxis\n",
    "\n",
    "# rotate the tick labels for the x axis\n",
    "for item in x.get_ticklabels():\n",
    "    item.set_rotation(45)"
   ]
  },
  {
   "cell_type": "code",
   "execution_count": null,
   "metadata": {
    "collapsed": false
   },
   "outputs": [],
   "source": [
    "# adjust the subplot so the text doesn't run off the image\n",
    "plt.subplots_adjust(bottom=0.25)"
   ]
  },
  {
   "cell_type": "code",
   "execution_count": null,
   "metadata": {
    "collapsed": false
   },
   "outputs": [],
   "source": [
    "ax = plt.gca()\n",
    "ax.set_xlabel('Date')\n",
    "ax.set_ylabel('Units')\n",
    "ax.set_title('Exponential vs. Linear performance')"
   ]
  },
  {
   "cell_type": "code",
   "execution_count": null,
   "metadata": {
    "collapsed": false
   },
   "outputs": [],
   "source": [
    "# you can add mathematical expressions in any text element\n",
    "ax.set_title(\"Exponential ($x^2$) vs. Linear ($x$) performance\")"
   ]
  },
  {
   "cell_type": "markdown",
   "metadata": {},
   "source": [
    "# Bar Charts"
   ]
  },
  {
   "cell_type": "code",
   "execution_count": null,
   "metadata": {
    "collapsed": false
   },
   "outputs": [],
   "source": [
    "plt.figure()\n",
    "xvals = range(len(linear_data))\n",
    "plt.bar(xvals, linear_data, width = 0.3)"
   ]
  },
  {
   "cell_type": "code",
   "execution_count": null,
   "metadata": {
    "collapsed": false
   },
   "outputs": [],
   "source": [
    "new_xvals = []\n",
    "\n",
    "# plot another set of bars, adjusting the new xvals to make up for the first set of bars plotted\n",
    "for item in xvals:\n",
    "    new_xvals.append(item+0.3)\n",
    "\n",
    "plt.bar(new_xvals, exponential_data, width = 0.3 ,color='red')"
   ]
  },
  {
   "cell_type": "code",
   "execution_count": null,
   "metadata": {
    "collapsed": false,
    "scrolled": true
   },
   "outputs": [],
   "source": [
    "from random import randint\n",
    "linear_err = [randint(0,15) for x in range(len(linear_data))] \n",
    "\n",
    "# This will plot a new set of bars with errorbars using the list of random error values\n",
    "plt.bar(xvals, linear_data, width = 0.3, yerr=linear_err)"
   ]
  },
  {
   "cell_type": "code",
   "execution_count": null,
   "metadata": {
    "collapsed": false
   },
   "outputs": [],
   "source": [
    "# stacked bar charts are also possible\n",
    "plt.figure()\n",
    "xvals = range(len(linear_data))\n",
    "plt.bar(xvals, linear_data, width = 0.3, color='b')\n",
    "plt.bar(xvals, exponential_data, width = 0.3, bottom=linear_data, color='r')"
   ]
  },
  {
   "cell_type": "code",
   "execution_count": null,
   "metadata": {
    "collapsed": false
   },
   "outputs": [],
   "source": [
    "# or use barh for horizontal bar charts\n",
    "plt.figure()\n",
    "xvals = range(len(linear_data))\n",
    "plt.barh(xvals, linear_data, height = 0.3, color='b')\n",
    "plt.barh(xvals, exponential_data, height = 0.3, left=linear_data, color='r')"
   ]
  }
 ],
 "metadata": {
  "kernelspec": {
   "display_name": "Python 3",
   "language": "python",
   "name": "python3"
  },
  "language_info": {
   "codemirror_mode": {
    "name": "ipython",
    "version": 3
   },
   "file_extension": ".py",
   "mimetype": "text/x-python",
   "name": "python",
   "nbconvert_exporter": "python",
   "pygments_lexer": "ipython3",
   "version": "3.6.2"
  }
 },
 "nbformat": 4,
 "nbformat_minor": 1
}
